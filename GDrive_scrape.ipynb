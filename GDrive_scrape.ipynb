{
  "cells": [
    {
      "cell_type": "markdown",
      "metadata": {
        "id": "view-in-github",
        "colab_type": "text"
      },
      "source": [
        "<a href=\"https://colab.research.google.com/github/rtrocca/small_llm/blob/main/GDrive_scrape.ipynb\" target=\"_parent\"><img src=\"https://colab.research.google.com/assets/colab-badge.svg\" alt=\"Open In Colab\"/></a>"
      ]
    },
    {
      "cell_type": "code",
      "execution_count": 1,
      "metadata": {
        "id": "JkE83rh0KcOm",
        "outputId": "b3c49d16-6118-4ba2-cafa-64e118d26ef7",
        "colab": {
          "base_uri": "https://localhost:8080/"
        }
      },
      "outputs": [
        {
          "output_type": "stream",
          "name": "stdout",
          "text": [
            "Requirement already satisfied: beautifulsoup4 in /usr/local/lib/python3.10/dist-packages (4.12.3)\n",
            "Requirement already satisfied: requests in /usr/local/lib/python3.10/dist-packages (2.31.0)\n",
            "Collecting html2text\n",
            "  Downloading html2text-2024.2.26.tar.gz (56 kB)\n",
            "\u001b[2K     \u001b[90m━━━━━━━━━━━━━━━━━━━━━━━━━━━━━━━━━━━━━━━━\u001b[0m \u001b[32m56.5/56.5 kB\u001b[0m \u001b[31m1.5 MB/s\u001b[0m eta \u001b[36m0:00:00\u001b[0m\n",
            "\u001b[?25h  Preparing metadata (setup.py) ... \u001b[?25l\u001b[?25hdone\n",
            "Requirement already satisfied: soupsieve>1.2 in /usr/local/lib/python3.10/dist-packages (from beautifulsoup4) (2.5)\n",
            "Requirement already satisfied: charset-normalizer<4,>=2 in /usr/local/lib/python3.10/dist-packages (from requests) (3.3.2)\n",
            "Requirement already satisfied: idna<4,>=2.5 in /usr/local/lib/python3.10/dist-packages (from requests) (3.7)\n",
            "Requirement already satisfied: urllib3<3,>=1.21.1 in /usr/local/lib/python3.10/dist-packages (from requests) (2.0.7)\n",
            "Requirement already satisfied: certifi>=2017.4.17 in /usr/local/lib/python3.10/dist-packages (from requests) (2024.6.2)\n",
            "Building wheels for collected packages: html2text\n",
            "  Building wheel for html2text (setup.py) ... \u001b[?25l\u001b[?25hdone\n",
            "  Created wheel for html2text: filename=html2text-2024.2.26-py3-none-any.whl size=33111 sha256=6694112d3877af4102ce00e90484ddb50db9e3e91b845a8a722aad21931edbde\n",
            "  Stored in directory: /root/.cache/pip/wheels/f3/96/6d/a7eba8f80d31cbd188a2787b81514d82fc5ae6943c44777659\n",
            "Successfully built html2text\n",
            "Installing collected packages: html2text\n",
            "Successfully installed html2text-2024.2.26\n",
            "Mounted at /content/drive\n"
          ]
        }
      ],
      "source": [
        "!pip install beautifulsoup4 requests html2text\n",
        "from google.colab import drive\n",
        "drive.mount('/content/drive')"
      ]
    },
    {
      "cell_type": "code",
      "execution_count": 2,
      "metadata": {
        "id": "gu_uJhySKcOm"
      },
      "outputs": [],
      "source": [
        "import requests\n",
        "from bs4 import BeautifulSoup\n",
        "import html2text\n",
        "\n",
        "# URL of the main page containing links to the fiction texts\n",
        "main_url = \"https://hplovecraft.com/writings/texts/\"\n",
        "\n",
        "# Function to get the content of a URL\n",
        "def get_page_content(url):\n",
        "    response = requests.get(url)\n",
        "    response.raise_for_status()  # Raise an error for bad status codes\n",
        "    return response.text\n",
        "\n",
        "# Function to convert HTML content to Markdown\n",
        "def convert_html_to_md(html_content):\n",
        "    converter = html2text.HTML2Text()\n",
        "    converter.ignore_links = True\n",
        "    converter.ignore_images = True\n",
        "    return converter.handle(html_content)\n",
        "\n",
        "\n"
      ]
    },
    {
      "cell_type": "code",
      "execution_count": null,
      "metadata": {
        "id": "t9emn8LvKcOm"
      },
      "outputs": [],
      "source": [
        "# Get the main page content\n",
        "main_page_content = get_page_content(main_url)\n",
        "\n",
        "# Parse the main page to find fiction links\n",
        "soup = BeautifulSoup(main_page_content, \"html.parser\")"
      ]
    },
    {
      "cell_type": "code",
      "execution_count": null,
      "metadata": {
        "id": "4-zVtueBKcOn"
      },
      "outputs": [],
      "source": [
        "def extract_links(html_content):\n",
        "    soup = BeautifulSoup(html_content, 'html.parser')\n",
        "    # Find the 'fiction' anchor to locate the correct section\n",
        "    fiction_anchor = soup.find('a', {'name':'fiction'})\n",
        "    # Find the parent <ul> containing the fiction links\n",
        "    fiction_ul = fiction_anchor.find_next('ul')\n",
        "    # Find all <a> tags within the nested <ul>\n",
        "    links = fiction_ul.find_all('a')\n",
        "    # Extract the href and text for each link\n",
        "    extracted_links = [{'href': link['href'], 'text': link.get_text()} for link in links]\n",
        "    return extracted_links\n",
        "\n",
        "links = extract_links(main_page_content)\n"
      ]
    },
    {
      "cell_type": "code",
      "execution_count": null,
      "metadata": {
        "id": "8wnFsfQSKcOn",
        "outputId": "daf7dd8d-bb5b-4852-95b3-0721792c1ca5",
        "colab": {
          "base_uri": "https://localhost:8080/"
        }
      },
      "outputs": [
        {
          "output_type": "stream",
          "name": "stdout",
          "text": [
            "Saved: /content/drive/MyDrive/minillm/texts/The_Alchemist.md\n",
            "Saved: /content/drive/MyDrive/minillm/texts/Ashes.md\n",
            "Saved: /content/drive/MyDrive/minillm/texts/At_the_Mountains_of_Madness.md\n",
            "Saved: /content/drive/MyDrive/minillm/texts/Azathoth.md\n",
            "Saved: /content/drive/MyDrive/minillm/texts/The_Battle_that_Ended_the_Century.md\n",
            "Saved: /content/drive/MyDrive/minillm/texts/The_Beast_in_the_Cave.md\n",
            "Saved: /content/drive/MyDrive/minillm/texts/Beyond_the_Wall_of_Sleep.md\n",
            "Saved: /content/drive/MyDrive/minillm/texts/The_Book.md\n",
            "Saved: /content/drive/MyDrive/minillm/texts/The_Call_of_Cthulhu.md\n",
            "Saved: /content/drive/MyDrive/minillm/texts/The_Case_of_Charles_Dexter_Ward.md\n",
            "Saved: /content/drive/MyDrive/minillm/texts/The_Cats_of_Ulthar.md\n",
            "Saved: /content/drive/MyDrive/minillm/texts/Celephaïs.md\n",
            "Saved: /content/drive/MyDrive/minillm/texts/The_Challenge_from_Beyond.md\n",
            "Saved: /content/drive/MyDrive/minillm/texts/Collapsing_Cosmoses.md\n",
            "Saved: /content/drive/MyDrive/minillm/texts/The_Colour_out_of_Space.md\n",
            "Saved: /content/drive/MyDrive/minillm/texts/Cool_Air.md\n",
            "Saved: /content/drive/MyDrive/minillm/texts/The_Crawling_Chaos.md\n",
            "Saved: /content/drive/MyDrive/minillm/texts/The_Curse_of_Yig.md\n",
            "Saved: /content/drive/MyDrive/minillm/texts/Dagon.md\n",
            "Saved: /content/drive/MyDrive/minillm/texts/Deaf,_Dumb,_and_Blind.md\n",
            "Saved: /content/drive/MyDrive/minillm/texts/The_Descendant.md\n",
            "Saved: /content/drive/MyDrive/minillm/texts/The_Diary_of_Alonzo_Typer.md\n",
            "Saved: /content/drive/MyDrive/minillm/texts/The_Disinterment.md\n",
            "Saved: /content/drive/MyDrive/minillm/texts/The_Doom_That_Came_to_Sarnath.md\n",
            "Saved: /content/drive/MyDrive/minillm/texts/The_Dream-Quest_of_Unknown_Kadath.md\n",
            "Saved: /content/drive/MyDrive/minillm/texts/The_Dreams_in_the_Witch_House.md\n",
            "Saved: /content/drive/MyDrive/minillm/texts/The_Dunwich_Horror.md\n",
            "Saved: /content/drive/MyDrive/minillm/texts/The_Electric_Executioner.md\n",
            "Saved: /content/drive/MyDrive/minillm/texts/The_Evil_Clergyman.md\n",
            "Saved: /content/drive/MyDrive/minillm/texts/Ex_Oblivione.md\n",
            "Saved: /content/drive/MyDrive/minillm/texts/Facts_concerning_the_Late_Arthur_Jermyn_and_His_Family.md\n",
            "Saved: /content/drive/MyDrive/minillm/texts/The_Festival.md\n",
            "Saved: /content/drive/MyDrive/minillm/texts/From_Beyond.md\n",
            "Saved: /content/drive/MyDrive/minillm/texts/The_Ghost-Eater.md\n",
            "Saved: /content/drive/MyDrive/minillm/texts/The_Green_Meadow.md\n",
            "Saved: /content/drive/MyDrive/minillm/texts/The_Haunter_of_the_Dark.md\n",
            "Saved: /content/drive/MyDrive/minillm/texts/He.md\n",
            "Saved: /content/drive/MyDrive/minillm/texts/Herbert_West—Reanimator.md\n",
            "Saved: /content/drive/MyDrive/minillm/texts/History_of_the_Necronomicon.md\n",
            "Saved: /content/drive/MyDrive/minillm/texts/The_Hoard_of_the_Wizard-Beast.md\n",
            "Saved: /content/drive/MyDrive/minillm/texts/The_Horror_at_Martin’s_Beach.md\n",
            "Saved: /content/drive/MyDrive/minillm/texts/The_Horror_at_Red_Hook.md\n",
            "Saved: /content/drive/MyDrive/minillm/texts/The_Horror_in_the_Burying-Ground.md\n",
            "Saved: /content/drive/MyDrive/minillm/texts/The_Horror_in_the_Museum.md\n",
            "Saved: /content/drive/MyDrive/minillm/texts/The_Hound.md\n",
            "Saved: /content/drive/MyDrive/minillm/texts/Hypnos.md\n",
            "Saved: /content/drive/MyDrive/minillm/texts/Ibid.md\n",
            "Saved: /content/drive/MyDrive/minillm/texts/In_the_Vault.md\n",
            "Saved: /content/drive/MyDrive/minillm/texts/In_the_Walls_of_Eryx.md\n",
            "Saved: /content/drive/MyDrive/minillm/texts/The_Last_Test.md\n",
            "Saved: /content/drive/MyDrive/minillm/texts/The_Little_Glass_Bottle.md\n",
            "Saved: /content/drive/MyDrive/minillm/texts/The_Loved_Dead.md\n",
            "Saved: /content/drive/MyDrive/minillm/texts/The_Lurking_Fear.md\n",
            "Saved: /content/drive/MyDrive/minillm/texts/The_Man_of_Stone.md\n",
            "Saved: /content/drive/MyDrive/minillm/texts/Medusa’s_Coil.md\n",
            "Saved: /content/drive/MyDrive/minillm/texts/Memory.md\n",
            "Saved: /content/drive/MyDrive/minillm/texts/The_Moon-Bog.md\n",
            "Saved: /content/drive/MyDrive/minillm/texts/The_Mound.md\n",
            "Saved: /content/drive/MyDrive/minillm/texts/The_Music_of_Erich_Zann.md\n",
            "Saved: /content/drive/MyDrive/minillm/texts/The_Mysterious_Ship.md\n",
            "Saved: /content/drive/MyDrive/minillm/texts/The_Mystery_of_the_Grave-Yard.md\n",
            "Saved: /content/drive/MyDrive/minillm/texts/The_Nameless_City.md\n",
            "Saved: /content/drive/MyDrive/minillm/texts/The_Night_Ocean.md\n",
            "Saved: /content/drive/MyDrive/minillm/texts/Nyarlathotep.md\n",
            "Saved: /content/drive/MyDrive/minillm/texts/Old_Bugs.md\n",
            "Saved: /content/drive/MyDrive/minillm/texts/The_Other_Gods.md\n",
            "Saved: /content/drive/MyDrive/minillm/texts/Out_of_the_Aeons.md\n",
            "Saved: /content/drive/MyDrive/minillm/texts/The_Outsider.md\n",
            "Saved: /content/drive/MyDrive/minillm/texts/Pickman’s_Model.md\n",
            "Saved: /content/drive/MyDrive/minillm/texts/The_Picture_in_the_House.md\n",
            "Saved: /content/drive/MyDrive/minillm/texts/Poetry_and_the_Gods.md\n",
            "Saved: /content/drive/MyDrive/minillm/texts/Polaris.md\n",
            "Saved: /content/drive/MyDrive/minillm/texts/The_Quest_of_Iranon.md\n",
            "Saved: /content/drive/MyDrive/minillm/texts/The_Rats_in_the_Walls.md\n",
            "Saved: /content/drive/MyDrive/minillm/texts/A_Reminiscence_of_Dr._Samuel_Johnson.md\n",
            "Saved: /content/drive/MyDrive/minillm/texts/The_Secret_Cave_or_John_Lees_Adventure.md\n",
            "Saved: /content/drive/MyDrive/minillm/texts/The_Shadow_out_of_Time.md\n",
            "Saved: /content/drive/MyDrive/minillm/texts/The_Shadow_over_Innsmouth.md\n",
            "Saved: /content/drive/MyDrive/minillm/texts/Discarded_Draft_of_The_Shadow_over_Innsmouth.md\n",
            "Saved: /content/drive/MyDrive/minillm/texts/The_Shunned_House.md\n",
            "Saved: /content/drive/MyDrive/minillm/texts/The_Silver_Key.md\n",
            "Saved: /content/drive/MyDrive/minillm/texts/The_Slaying_of_the_Monster.md\n",
            "Saved: /content/drive/MyDrive/minillm/texts/The_Statement_of_Randolph_Carter.md\n",
            "Saved: /content/drive/MyDrive/minillm/texts/The_Strange_High_House_in_the_Mist.md\n",
            "Saved: /content/drive/MyDrive/minillm/texts/The_Street.md\n",
            "Saved: /content/drive/MyDrive/minillm/texts/Sweet_Ermengarde.md\n",
            "Saved: /content/drive/MyDrive/minillm/texts/The_Temple.md\n",
            "Saved: /content/drive/MyDrive/minillm/texts/The_Terrible_Old_Man.md\n",
            "Saved: /content/drive/MyDrive/minillm/texts/The_Thing_in_the_Moonlight.md\n",
            "Saved: /content/drive/MyDrive/minillm/texts/The_Thing_on_the_Doorstep.md\n",
            "Saved: /content/drive/MyDrive/minillm/texts/Through_the_Gates_of_the_Silver_Key.md\n",
            "Saved: /content/drive/MyDrive/minillm/texts/“Till_A’_the_Seas”.md\n",
            "Saved: /content/drive/MyDrive/minillm/texts/The_Tomb.md\n",
            "Saved: /content/drive/MyDrive/minillm/texts/The_Transition_of_Juan_Romero.md\n",
            "Saved: /content/drive/MyDrive/minillm/texts/The_Trap.md\n",
            "Saved: /content/drive/MyDrive/minillm/texts/The_Tree.md\n",
            "Saved: /content/drive/MyDrive/minillm/texts/The_Tree_on_the_Hill.md\n",
            "Saved: /content/drive/MyDrive/minillm/texts/Two_Black_Bottles.md\n",
            "Saved: /content/drive/MyDrive/minillm/texts/Under_the_Pyramids.md\n",
            "Saved: /content/drive/MyDrive/minillm/texts/The_Unnamable.md\n",
            "Saved: /content/drive/MyDrive/minillm/texts/The_Very_Old_Folk.md\n",
            "Saved: /content/drive/MyDrive/minillm/texts/What_the_Moon_Brings.md\n",
            "Saved: /content/drive/MyDrive/minillm/texts/The_Whisperer_in_Darkness.md\n",
            "Saved: /content/drive/MyDrive/minillm/texts/The_White_Ship.md\n",
            "Saved: /content/drive/MyDrive/minillm/texts/Winged_Death.md\n"
          ]
        }
      ],
      "source": [
        "for link in links:\n",
        "    content  = get_page_content(main_url + link['href'])\n",
        "    soup = BeautifulSoup(content, 'html.parser')\n",
        "    trs = soup.find_all('tr')\n",
        "    md = convert_html_to_md(str(trs[3])) + convert_html_to_md(str(trs[4]))\n",
        "    file_name = \"/content/drive/MyDrive/minillm/texts/\" + f\"{link['text']}.md\".replace(\" \", \"_\").replace(\"/\", \"_\")\n",
        "    with open(file_name, \"w\", encoding=\"utf-8\") as md_file:\n",
        "        md_file.write(md)\n",
        "\n",
        "    print(f\"Saved: {file_name}\")\n"
      ]
    },
    {
      "cell_type": "code",
      "execution_count": null,
      "metadata": {
        "id": "m-mmeJhjKcOq",
        "outputId": "4fab64f1-5bd6-4234-dc6d-2d6815e43da1",
        "colab": {
          "base_uri": "https://localhost:8080/"
        }
      },
      "outputs": [
        {
          "output_type": "stream",
          "name": "stdout",
          "text": [
            "All .md files have been combined into /content/drive/MyDrive/minillm/all_texts.txt\n"
          ]
        }
      ],
      "source": [
        "import os\n",
        "\n",
        "# Define the path to the folder containing the .md files\n",
        "folder_path = \"/content/drive/MyDrive/minillm/texts\"\n",
        "\n",
        "# Define the path for the output file\n",
        "output_file = \"/content/drive/MyDrive/minillm/all_texts.txt\"\n",
        "\n",
        "# Get a list of all .md files in the specified folder\n",
        "md_files = [f for f in os.listdir(folder_path) if f.endswith('.md')]\n",
        "\n",
        "# Initialize the output file by opening it in write mode\n",
        "with open(output_file, 'w', encoding='utf-8') as outfile:\n",
        "    # Loop through each .md file\n",
        "    for md_file in md_files:\n",
        "        file_path = os.path.join(folder_path, md_file)\n",
        "        # Open and read the content of each .md file\n",
        "        with open(file_path, 'r', encoding='utf-8') as infile:\n",
        "            content = infile.read()\n",
        "            # Write the content to the output file\n",
        "            outfile.write(content)\n",
        "            # Add a newline between files for separation\n",
        "            outfile.write('\\n')\n",
        "\n",
        "print(f\"All .md files have been combined into {output_file}\")\n"
      ]
    },
    {
      "cell_type": "code",
      "execution_count": null,
      "metadata": {
        "id": "l7TIONe9KcOr"
      },
      "outputs": [],
      "source": []
    }
  ],
  "metadata": {
    "kernelspec": {
      "display_name": "Python 3",
      "name": "python3"
    },
    "language_info": {
      "codemirror_mode": {
        "name": "ipython",
        "version": 3
      },
      "file_extension": ".py",
      "mimetype": "text/x-python",
      "name": "python",
      "nbconvert_exporter": "python",
      "pygments_lexer": "ipython3",
      "version": "3.11.4"
    },
    "colab": {
      "provenance": [],
      "include_colab_link": true
    }
  },
  "nbformat": 4,
  "nbformat_minor": 0
}