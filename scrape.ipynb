{
 "cells": [
  {
   "cell_type": "code",
   "execution_count": 1,
   "metadata": {},
   "outputs": [
    {
     "name": "stdout",
     "output_type": "stream",
     "text": [
      "Requirement already satisfied: beautifulsoup4 in c:\\projects\\small_llm\\.venv\\lib\\site-packages (4.12.3)\n",
      "Requirement already satisfied: requests in c:\\projects\\small_llm\\.venv\\lib\\site-packages (2.32.2)\n",
      "Requirement already satisfied: soupsieve>1.2 in c:\\projects\\small_llm\\.venv\\lib\\site-packages (from beautifulsoup4) (2.5)\n",
      "Requirement already satisfied: charset-normalizer<4,>=2 in c:\\projects\\small_llm\\.venv\\lib\\site-packages (from requests) (3.3.2)\n",
      "Requirement already satisfied: idna<4,>=2.5 in c:\\projects\\small_llm\\.venv\\lib\\site-packages (from requests) (3.7)\n",
      "Requirement already satisfied: urllib3<3,>=1.21.1 in c:\\projects\\small_llm\\.venv\\lib\\site-packages (from requests) (2.2.1)\n",
      "Requirement already satisfied: certifi>=2017.4.17 in c:\\projects\\small_llm\\.venv\\lib\\site-packages (from requests) (2024.2.2)\n"
     ]
    },
    {
     "name": "stderr",
     "output_type": "stream",
     "text": [
      "\n",
      "[notice] A new release of pip is available: 23.1.2 -> 24.0\n",
      "[notice] To update, run: python.exe -m pip install --upgrade pip\n"
     ]
    }
   ],
   "source": [
    "!pip install beautifulsoup4 requests"
   ]
  },
  {
   "cell_type": "code",
   "execution_count": 2,
   "metadata": {},
   "outputs": [
    {
     "name": "stdout",
     "output_type": "stream",
     "text": [
      "Collecting html2text\n",
      "  Downloading html2text-2024.2.26.tar.gz (56 kB)\n",
      "                                              0.0/56.5 kB ? eta -:--:--\n",
      "     --------------                           20.5/56.5 kB ? eta -:--:--\n",
      "     -------------------------------------- 56.5/56.5 kB 593.4 kB/s eta 0:00:00\n",
      "  Installing build dependencies: started\n",
      "  Installing build dependencies: finished with status 'done'\n",
      "  Getting requirements to build wheel: started\n",
      "  Getting requirements to build wheel: finished with status 'done'\n",
      "  Preparing metadata (pyproject.toml): started\n",
      "  Preparing metadata (pyproject.toml): finished with status 'done'\n",
      "Building wheels for collected packages: html2text\n",
      "  Building wheel for html2text (pyproject.toml): started\n",
      "  Building wheel for html2text (pyproject.toml): finished with status 'done'\n",
      "  Created wheel for html2text: filename=html2text-2024.2.26-py3-none-any.whl size=33131 sha256=2b17eca4d568a4b2e70a26e2942536626b5141a46e1e5afa4fb49a3d55d813c7\n",
      "  Stored in directory: c:\\users\\ricca\\appdata\\local\\pip\\cache\\wheels\\23\\58\\7c\\d9c8c4d924a1ac2b621add1b2c1d30b639629a33cfdfde6a45\n",
      "Successfully built html2text\n",
      "Installing collected packages: html2text\n",
      "Successfully installed html2text-2024.2.26\n"
     ]
    },
    {
     "name": "stderr",
     "output_type": "stream",
     "text": [
      "\n",
      "[notice] A new release of pip is available: 23.1.2 -> 24.0\n",
      "[notice] To update, run: python.exe -m pip install --upgrade pip\n"
     ]
    }
   ],
   "source": [
    "!pip install html2text"
   ]
  },
  {
   "cell_type": "code",
   "execution_count": 25,
   "metadata": {},
   "outputs": [],
   "source": [
    "import requests\n",
    "from bs4 import BeautifulSoup\n",
    "import html2text\n",
    "\n",
    "# URL of the main page containing links to the fiction texts\n",
    "main_url = \"https://hplovecraft.com/writings/texts/\"\n",
    "\n",
    "# Function to get the content of a URL\n",
    "def get_page_content(url):\n",
    "    response = requests.get(url)\n",
    "    response.raise_for_status()  # Raise an error for bad status codes\n",
    "    return response.text\n",
    "\n",
    "# Function to convert HTML content to Markdown\n",
    "def convert_html_to_md(html_content):\n",
    "    converter = html2text.HTML2Text()\n",
    "    converter.ignore_links = True\n",
    "    converter.ignore_images = True\n",
    "    return converter.handle(html_content)\n",
    "\n",
    "\n"
   ]
  },
  {
   "cell_type": "code",
   "execution_count": 4,
   "metadata": {},
   "outputs": [],
   "source": [
    "# Get the main page content\n",
    "main_page_content = get_page_content(main_url)\n",
    "\n",
    "# Parse the main page to find fiction links\n",
    "soup = BeautifulSoup(main_page_content, \"html.parser\")"
   ]
  },
  {
   "cell_type": "code",
   "execution_count": 9,
   "metadata": {},
   "outputs": [],
   "source": [
    "def extract_links(html_content):\n",
    "    soup = BeautifulSoup(html_content, 'html.parser')\n",
    "    # Find the 'fiction' anchor to locate the correct section\n",
    "    fiction_anchor = soup.find('a', {'name':'fiction'})\n",
    "    # Find the parent <ul> containing the fiction links\n",
    "    fiction_ul = fiction_anchor.find_next('ul')\n",
    "    # Find all <a> tags within the nested <ul>\n",
    "    links = fiction_ul.find_all('a')\n",
    "    # Extract the href and text for each link\n",
    "    extracted_links = [{'href': link['href'], 'text': link.get_text()} for link in links]\n",
    "    return extracted_links\n",
    "\n",
    "links = extract_links(main_page_content)\n"
   ]
  },
  {
   "cell_type": "code",
   "execution_count": 28,
   "metadata": {},
   "outputs": [
    {
     "name": "stdout",
     "output_type": "stream",
     "text": [
      "Saved: texts/The_Alchemist.md\n",
      "Saved: texts/Ashes.md\n",
      "Saved: texts/At_the_Mountains_of_Madness.md\n",
      "Saved: texts/Azathoth.md\n",
      "Saved: texts/The_Battle_that_Ended_the_Century.md\n",
      "Saved: texts/The_Beast_in_the_Cave.md\n",
      "Saved: texts/Beyond_the_Wall_of_Sleep.md\n",
      "Saved: texts/The_Book.md\n",
      "Saved: texts/The_Call_of_Cthulhu.md\n",
      "Saved: texts/The_Case_of_Charles_Dexter_Ward.md\n",
      "Saved: texts/The_Cats_of_Ulthar.md\n",
      "Saved: texts/Celephaïs.md\n",
      "Saved: texts/The_Challenge_from_Beyond.md\n",
      "Saved: texts/Collapsing_Cosmoses.md\n",
      "Saved: texts/The_Colour_out_of_Space.md\n",
      "Saved: texts/Cool_Air.md\n",
      "Saved: texts/The_Crawling_Chaos.md\n",
      "Saved: texts/The_Curse_of_Yig.md\n",
      "Saved: texts/Dagon.md\n",
      "Saved: texts/Deaf,_Dumb,_and_Blind.md\n",
      "Saved: texts/The_Descendant.md\n",
      "Saved: texts/The_Diary_of_Alonzo_Typer.md\n",
      "Saved: texts/The_Disinterment.md\n",
      "Saved: texts/The_Doom_That_Came_to_Sarnath.md\n",
      "Saved: texts/The_Dream-Quest_of_Unknown_Kadath.md\n",
      "Saved: texts/The_Dreams_in_the_Witch_House.md\n",
      "Saved: texts/The_Dunwich_Horror.md\n",
      "Saved: texts/The_Electric_Executioner.md\n",
      "Saved: texts/The_Evil_Clergyman.md\n",
      "Saved: texts/Ex_Oblivione.md\n",
      "Saved: texts/Facts_concerning_the_Late_Arthur_Jermyn_and_His_Family.md\n",
      "Saved: texts/The_Festival.md\n",
      "Saved: texts/From_Beyond.md\n",
      "Saved: texts/The_Ghost-Eater.md\n",
      "Saved: texts/The_Green_Meadow.md\n",
      "Saved: texts/The_Haunter_of_the_Dark.md\n",
      "Saved: texts/He.md\n",
      "Saved: texts/Herbert_West—Reanimator.md\n",
      "Saved: texts/History_of_the_Necronomicon.md\n",
      "Saved: texts/The_Hoard_of_the_Wizard-Beast.md\n",
      "Saved: texts/The_Horror_at_Martin’s_Beach.md\n",
      "Saved: texts/The_Horror_at_Red_Hook.md\n",
      "Saved: texts/The_Horror_in_the_Burying-Ground.md\n",
      "Saved: texts/The_Horror_in_the_Museum.md\n",
      "Saved: texts/The_Hound.md\n",
      "Saved: texts/Hypnos.md\n",
      "Saved: texts/Ibid.md\n",
      "Saved: texts/In_the_Vault.md\n",
      "Saved: texts/In_the_Walls_of_Eryx.md\n",
      "Saved: texts/The_Last_Test.md\n",
      "Saved: texts/The_Little_Glass_Bottle.md\n",
      "Saved: texts/The_Loved_Dead.md\n",
      "Saved: texts/The_Lurking_Fear.md\n",
      "Saved: texts/The_Man_of_Stone.md\n",
      "Saved: texts/Medusa’s_Coil.md\n",
      "Saved: texts/Memory.md\n",
      "Saved: texts/The_Moon-Bog.md\n",
      "Saved: texts/The_Mound.md\n",
      "Saved: texts/The_Music_of_Erich_Zann.md\n",
      "Saved: texts/The_Mysterious_Ship.md\n",
      "Saved: texts/The_Mystery_of_the_Grave-Yard.md\n",
      "Saved: texts/The_Nameless_City.md\n",
      "Saved: texts/The_Night_Ocean.md\n",
      "Saved: texts/Nyarlathotep.md\n",
      "Saved: texts/Old_Bugs.md\n",
      "Saved: texts/The_Other_Gods.md\n",
      "Saved: texts/Out_of_the_Aeons.md\n",
      "Saved: texts/The_Outsider.md\n",
      "Saved: texts/Pickman’s_Model.md\n",
      "Saved: texts/The_Picture_in_the_House.md\n",
      "Saved: texts/Poetry_and_the_Gods.md\n",
      "Saved: texts/Polaris.md\n",
      "Saved: texts/The_Quest_of_Iranon.md\n",
      "Saved: texts/The_Rats_in_the_Walls.md\n",
      "Saved: texts/A_Reminiscence_of_Dr._Samuel_Johnson.md\n",
      "Saved: texts/The_Secret_Cave_or_John_Lees_Adventure.md\n",
      "Saved: texts/The_Shadow_out_of_Time.md\n",
      "Saved: texts/The_Shadow_over_Innsmouth.md\n",
      "Saved: texts/Discarded_Draft_of_The_Shadow_over_Innsmouth.md\n",
      "Saved: texts/The_Shunned_House.md\n",
      "Saved: texts/The_Silver_Key.md\n",
      "Saved: texts/The_Slaying_of_the_Monster.md\n",
      "Saved: texts/The_Statement_of_Randolph_Carter.md\n",
      "Saved: texts/The_Strange_High_House_in_the_Mist.md\n",
      "Saved: texts/The_Street.md\n",
      "Saved: texts/Sweet_Ermengarde.md\n",
      "Saved: texts/The_Temple.md\n",
      "Saved: texts/The_Terrible_Old_Man.md\n",
      "Saved: texts/The_Thing_in_the_Moonlight.md\n",
      "Saved: texts/The_Thing_on_the_Doorstep.md\n",
      "Saved: texts/Through_the_Gates_of_the_Silver_Key.md\n",
      "Saved: texts/“Till_A’_the_Seas”.md\n",
      "Saved: texts/The_Tomb.md\n",
      "Saved: texts/The_Transition_of_Juan_Romero.md\n",
      "Saved: texts/The_Trap.md\n",
      "Saved: texts/The_Tree.md\n",
      "Saved: texts/The_Tree_on_the_Hill.md\n",
      "Saved: texts/Two_Black_Bottles.md\n",
      "Saved: texts/Under_the_Pyramids.md\n",
      "Saved: texts/The_Unnamable.md\n",
      "Saved: texts/The_Very_Old_Folk.md\n",
      "Saved: texts/What_the_Moon_Brings.md\n",
      "Saved: texts/The_Whisperer_in_Darkness.md\n",
      "Saved: texts/The_White_Ship.md\n",
      "Saved: texts/Winged_Death.md\n"
     ]
    }
   ],
   "source": [
    "for link in links:\n",
    "    content  = get_page_content(main_url + link['href'])\n",
    "    soup = BeautifulSoup(content, 'html.parser')\n",
    "    trs = soup.find_all('tr')\n",
    "    md = convert_html_to_md(str(trs[3])) + convert_html_to_md(str(trs[4]))\n",
    "    file_name = \"texts/\" + f\"{link['text']}.md\".replace(\" \", \"_\").replace(\"/\", \"_\")\n",
    "    with open(file_name, \"w\", encoding=\"utf-8\") as md_file:\n",
    "        md_file.write(md)\n",
    "\n",
    "    print(f\"Saved: {file_name}\")\n"
   ]
  },
  {
   "cell_type": "code",
   "execution_count": 14,
   "metadata": {},
   "outputs": [
    {
     "data": {
      "text/plain": [
       "<tr>\n",
       "<td>\n",
       "<table bgcolor=\"#000000\" border=\"0\" cellpadding=\"0\" cellspacing=\"1\" width=\"100%\">\n",
       "<tr>\n",
       "<td align=\"center\"><font face=\"Arial\" size=\"-2\"> </font></td>\n",
       "<td align=\"center\"><a class=\"GoldLink\" href=\"../../../.\"><font color=\"#FFCC00\" face=\"Arial\" size=\"-2\">Home</font></a></td>\n",
       "<td align=\"center\"><font face=\"Arial\" size=\"-2\">   </font></td>\n",
       "<td align=\"center\"><a class=\"GoldLink\" href=\"../../../life/\"><font color=\"#FFCC00\" face=\"Arial\" size=\"-2\">His Life</font></a></td>\n",
       "<td align=\"center\"><font face=\"Arial\" size=\"-2\">   </font></td>\n",
       "<td align=\"center\"><a class=\"GoldLink\" href=\"../../../writings/\"><font color=\"#FFFFFF\" face=\"Arial\" size=\"-2\">His Writings</font></a></td>\n",
       "<td align=\"center\"><font face=\"Arial\" size=\"-2\">   </font></td>\n",
       "<td align=\"center\"><a class=\"GoldLink\" href=\"../../../creation/\"><font color=\"#FFCC00\" face=\"Arial\" size=\"-2\">His Creations</font></a></td>\n",
       "<td align=\"center\"><font face=\"Arial\" size=\"-2\">   </font></td>\n",
       "<td align=\"center\"><a class=\"GoldLink\" href=\"../../../study/\"><font color=\"#FFCC00\" face=\"Arial\" size=\"-2\">His Study</font></a></td>\n",
       "<td align=\"center\"><font face=\"Arial\" size=\"-2\">   </font></td>\n",
       "<td align=\"center\"><a class=\"GoldLink\" href=\"../../../popcult/\"><font color=\"#FFCC00\" face=\"Arial\" size=\"-2\">Popular Culture</font></a></td>\n",
       "<td align=\"center\"><font face=\"Arial\" size=\"-2\">   </font></td>\n",
       "<td align=\"center\"><a class=\"GoldLink\" href=\"../../../internet/\"><font color=\"#FFCC00\" face=\"Arial\" size=\"-2\">Internet Resources</font></a></td>\n",
       "<td align=\"center\"><font face=\"Arial\" size=\"-2\">   </font></td>\n",
       "<td align=\"center\"><a class=\"GoldLink\" href=\"../../../about/\"><font color=\"#FFCC00\" face=\"Arial\" size=\"-2\">About This Site</font></a></td>\n",
       "<td align=\"center\"><font face=\"Arial\" size=\"-2\"> </font></td>\n",
       "</tr>\n",
       "</table>\n",
       "</td>\n",
       "</tr>"
      ]
     },
     "execution_count": 14,
     "metadata": {},
     "output_type": "execute_result"
    }
   ],
   "source": [
    "content = get_page_content(main_url + 'fiction/a.aspx')\n",
    "soup = BeautifulSoup(content, 'html.parser')\n",
    "trs = soup.find_all('tr')\n"
   ]
  },
  {
   "cell_type": "code",
   "execution_count": 27,
   "metadata": {},
   "outputs": [
    {
     "data": {
      "text/plain": [
       "'  \\n**The Alchemist  \\nBy H. P. Lovecraft  \\n**  \\n\\nHigh up, crowning the grassy summit of a swelling mound whose sides are wooded\\nnear the base with the gnarled trees of the primeval forest, stands the old\\nchateau of my ancestors. For centuries its lofty battlements have frowned down\\nupon the wild and rugged countryside about, serving as a home and stronghold\\nfor the proud house whose honoured line is older even than the moss-grown\\ncastle walls. These ancient turrets, stained by the storms of generations and\\ncrumbling under the slow yet mighty pressure of time, formed in the ages of\\nfeudalism one of the most dreaded and formidable fortresses in all France.\\nFrom its machicolated parapets and mounted battlements Barons, Counts, and\\neven Kings had been defied, yet never had its spacious halls resounded to the\\nfootsteps of the invader.  \\nBut since those glorious years all is changed. A poverty but little above the\\nlevel of dire want, together with a pride of name that forbids its alleviation\\nby the pursuits of commercial life, have prevented the scions of our line from\\nmaintaining their estates in pristine splendour; and the falling stones of the\\nwalls, the overgrown vegetation in the parks, the dry and dusty moat, the ill-\\npaved courtyards, and toppling towers without, as well as the sagging floors,\\nthe worm-eaten wainscots, and the faded tapestries within, all tell a gloomy\\ntale of fallen grandeur. As the ages passed, first one, then another of the\\nfour great turrets were left to ruin, until at last but a single tower housed\\nthe sadly reduced descendants of the once mighty lords of the estate.  \\nIt was in one of the vast and gloomy chambers of this remaining tower that I,\\nAntoine, last of the unhappy and accursed Comtes de C——, first saw the light\\nof day, ninety long years ago. Within these walls, and amongst the dark and\\nshadowy forests, the wild ravines and grottoes of the hillside below, were\\nspent the first years of my troubled life. My parents I never knew. My father\\nhad been killed at the age of thirty-two, a month before I was born, by the\\nfall of a stone somehow dislodged from one of the deserted parapets of the\\ncastle; and my mother having died at my birth, my care and education devolved\\nsolely upon one remaining servitor, an old and trusted man of considerable\\nintelligence, whose name I remember as Pierre. I was an only child, and the\\nlack of companionship which this fact entailed upon me was augmented by the\\nstrange care exercised by my aged guardian in excluding me from the society of\\nthe peasant children whose abodes were scattered here and there upon the\\nplains that surround the base of the hill. At the time, Pierre said that this\\nrestriction was imposed upon me because my noble birth placed me above\\nassociation with such plebeian company. Now I know that its real object was to\\nkeep from my ears the idle tales of the dread curse upon our line, that were\\nnightly told and magnified by the simple tenantry as they conversed in hushed\\naccents in the glow of their cottage hearths.  \\nThus isolated, and thrown upon my own resources, I spent the hours of my\\nchildhood in poring over the ancient tomes that filled the shadow-haunted\\nlibrary of the chateau, and in roaming without aim or purpose through the\\nperpetual dusk of the spectral wood that clothes the side of the hill near its\\nfoot. It was perhaps an effect of such surroundings that my mind early\\nacquired a shade of melancholy. Those studies and pursuits which partake of\\nthe dark and occult in Nature most strongly claimed my attention.  \\nOf my own race I was permitted to learn singularly little, yet what small\\nknowledge of it I was able to gain, seemed to depress me much. Perhaps it was\\nat first only the manifest reluctance of my old preceptor to discuss with me\\nmy paternal ancestry that gave rise to the terror which I ever felt at the\\nmention of my great house; yet as I grew out of childhood, I was able to piece\\ntogether disconnected fragments of discourse, let slip from the unwilling\\ntongue which had begun to falter in approaching senility, that had a sort of\\nrelation to a certain circumstance which I had always deemed strange, but\\nwhich now became dimly terrible. The circumstance to which I allude is the\\nearly age at which all the Comtes of my line had met their end. Whilst I had\\nhitherto considered this but a natural attribute of a family of short-lived\\nmen, I afterward pondered long upon these premature deaths, and began to\\nconnect them with the wanderings of the old man, who often spoke of a curse\\nwhich for centuries had prevented the lives of the holders of my title from\\nmuch exceeding the span of thirty-two years. Upon my twenty-first birthday,\\nthe aged Pierre gave to me a family document which he said had for many\\ngenerations been handed down from father to son, and continued by each\\npossessor. Its contents were of the most startling nature, and its perusal\\nconfirmed the gravest of my apprehensions. At this time, my belief in the\\nsupernatural was firm and deep-seated, else I should have dismissed with scorn\\nthe incredible narrative unfolded before my eyes.  \\nThe paper carried me back to the days of the thirteenth century, when the old\\ncastle in which I sat had been a feared and impregnable fortress. It told of a\\ncertain ancient man who had once dwelt on our estates, a person of no small\\naccomplishments, though little above the rank of peasant; by name, Michel,\\nusually designated by the surname of Mauvais, the Evil, on account of his\\nsinister reputation. He had studied beyond the custom of his kind, seeking\\nsuch things as the Philosopher’s Stone, or the Elixir of Eternal Life, and was\\nreputed wise in the terrible secrets of Black Magic and Alchemy. Michel\\nMauvais had one son, named Charles, a youth as proficient as himself in the\\nhidden arts, and who had therefore been called Le Sorcier, or the Wizard. This\\npair, shunned by all honest folk, were suspected of the most hideous\\npractices. Old Michel was said to have burnt his wife alive as a sacrifice to\\nthe Devil, and the unaccountable disappearances of many small peasant children\\nwere laid at the dreaded door of these two. Yet through the dark natures of\\nthe father and the son ran one redeeming ray of humanity; the evil old man\\nloved his offspring with fierce intensity, whilst the youth had for his parent\\na more than filial affection.  \\nOne night the castle on the hill was thrown into the wildest confusion by the\\nvanishment of young Godfrey, son to Henri the Comte. A searching party, headed\\nby the frantic father, invaded the cottage of the sorcerers and there came\\nupon old Michel Mauvais, busy over a huge and violently boiling cauldron.\\nWithout certain cause, in the ungoverned madness of fury and despair, the\\nComte laid hands on the aged wizard, and ere he released his murderous hold\\nhis victim was no more. Meanwhile joyful servants were proclaiming the finding\\nof young Godfrey in a distant and unused chamber of the great edifice, telling\\ntoo late that poor Michel had been killed in vain. As the Comte and his\\nassociates turned away from the lowly abode of the alchemists, the form of\\nCharles Le Sorcier appeared through the trees. The excited chatter of the\\nmenials standing about told him what had occurred, yet he seemed at first\\nunmoved at his father’s fate. Then, slowly advancing to meet the Comte, he\\npronounced in dull yet terrible accents the curse that ever afterward haunted\\nthe house of C——.  \\n  \\n| “May ne’er a noble of thy murd’rous line  \\nSurvive to reach a greater age than thine!”  \\n---  \\n  \\nspake he, when, suddenly leaping backwards into the black wood, he drew from\\nhis tunic a phial of colourless liquid which he threw into the face of his\\nfather’s slayer as he disappeared behind the inky curtain of the night. The\\nComte died without utterance, and was buried the next day, but little more\\nthan two and thirty years from the hour of his birth. No trace of the assassin\\ncould be found, though relentless bands of peasants scoured the neighbouring\\nwoods and the meadow-land around the hill.  \\nThus time and the want of a reminder dulled the memory of the curse in the\\nminds of the late Comte’s family, so that when Godfrey, innocent cause of the\\nwhole tragedy and now bearing the title, was killed by an arrow whilst\\nhunting, at the age of thirty-two, there were no thoughts save those of grief\\nat his demise. But when, years afterward, the next young Comte, Robert by\\nname, was found dead in a nearby field from no apparent cause, the peasants\\ntold in whispers that their seigneur had but lately passed his thirty-second\\nbirthday when surprised by early death. Louis, son to Robert, was found\\ndrowned in the moat at the same fateful age, and thus down through the\\ncenturies ran the ominous chronicle; Henris, Roberts, Antoines, and Armands\\nsnatched from happy and virtuous lives when little below the age of their\\nunfortunate ancestor at his murder.  \\nThat I had left at most but eleven years of further existence was made certain\\nto me by the words which I read. My life, previously held at small value, now\\nbecame dearer to me each day, as I delved deeper and deeper into the mysteries\\nof the hidden world of black magic. Isolated as I was, modern science had\\nproduced no impression upon me, and I laboured as in the Middle Ages, as wrapt\\nas had been old Michel and young Charles themselves in the acquisition of\\ndaemonological and alchemical learning. Yet read as I might, in no manner\\ncould I account for the strange curse upon my line. In unusually rational\\nmoments, I would even go so far as to seek a natural explanation, attributing\\nthe early deaths of my ancestors to the sinister Charles Le Sorcier and his\\nheirs; yet having found upon careful inquiry that there were no known\\ndescendants of the alchemist, I would fall back to occult studies, and once\\nmore endeavour to find a spell that would release my house from its terrible\\nburden. Upon one thing I was absolutely resolved. I should never wed, for\\nsince no other branches of my family were in existence, I might thus end the\\ncurse with myself.  \\nAs I drew near the age of thirty, old Pierre was called to the land beyond.\\nAlone I buried him beneath the stones of the courtyard about which he had\\nloved to wander in life. Thus was I left to ponder on myself as the only human\\ncreature within the great fortress, and in my utter solitude my mind began to\\ncease its vain protest against the impending doom, to become almost reconciled\\nto the fate which so many of my ancestors had met. Much of my time was now\\noccupied in the exploration of the ruined and abandoned halls and towers of\\nthe old chateau, which in youth fear had caused me to shun, and some of which,\\nold Pierre had once told me, had not been trodden by human foot for over four\\ncenturies. Strange and awesome were many of the objects I encountered.\\nFurniture, covered by the dust of ages and crumbling with the rot of long\\ndampness, met my eyes. Cobwebs in a profusion never before seen by me were\\nspun everywhere, and huge bats flapped their bony and uncanny wings on all\\nsides of the otherwise untenanted gloom.  \\nOf my exact age, even down to days and hours, I kept a most careful record,\\nfor each movement of the pendulum of the massive clock in the library told off\\nso much more of my doomed existence. At length I approached that time which I\\nhad so long viewed with apprehension. Since most of my ancestors had been\\nseized some little while before they reached the exact age of Comte Henri at\\nhis end, I was every moment on the watch for the coming of the unknown death.\\nIn what strange form the curse should overtake me, I knew not; but I was\\nresolved, at least, that it should not find me a cowardly or a passive victim.\\nWith new vigour I applied myself to my examination of the old chateau and its\\ncontents.  \\nIt was upon one of the longest of all my excursions of discovery in the\\ndeserted portion of the castle, less than a week before that fatal hour which\\nI felt must mark the utmost limit of my stay on earth, beyond which I could\\nhave not even the slightest hope of continuing to draw breath, that I came\\nupon the culminating event of my whole life. I had spent the better part of\\nthe morning in climbing up and down half-ruined staircases in one of the most\\ndilapidated of the ancient turrets. As the afternoon progressed, I sought the\\nlower levels, descending into what appeared to be either a mediaeval place of\\nconfinement, or a more recently excavated storehouse for gunpowder. As I\\nslowly traversed the nitre-encrusted passageway at the foot of the last\\nstaircase, the paving became very damp, and soon I saw by the light of my\\nflickering torch that a blank, water-stained wall impeded my journey. Turning\\nto retrace my steps, my eye fell upon a small trap-door with a ring, which lay\\ndirectly beneath my feet. Pausing, I succeeded with difficulty in raising it,\\nwhereupon there was revealed a black aperture, exhaling noxious fumes which\\ncaused my torch to sputter, and disclosing in the unsteady glare the top of a\\nflight of stone steps. As soon as the torch, which I lowered into the\\nrepellent depths, burned freely and steadily, I commenced my descent. The\\nsteps were many, and led to a narrow stone-flagged passage which I knew must\\nbe far underground. The passage proved of great length, and terminated in a\\nmassive oaken door, dripping with the moisture of the place, and stoutly\\nresisting all my attempts to open it. Ceasing after a time my efforts in this\\ndirection, I had proceeded back some distance toward the steps, when there\\nsuddenly fell to my experience one of the most profound and maddening shocks\\ncapable of reception by the human mind. Without warning, _I heard the heavy\\ndoor behind me creak slowly open upon its rusted hinges._ My immediate\\nsensations are incapable of analysis. To be confronted in a place as\\nthoroughly deserted as I had deemed the old castle with evidence of the\\npresence of man or spirit, produced in my brain a horror of the most acute\\ndescription. When at last I turned and faced the seat of the sound, my eyes\\nmust have started from their orbits at the sight that they beheld. There in\\nthe ancient Gothic doorway stood a human figure. It was that of a man clad in\\na skull-cap and long mediaeval tunic of dark colour. His long hair and flowing\\nbeard were of a terrible and intense black hue, and of incredible profusion.\\nHis forehead, high beyond the usual dimensions; his cheeks, deep-sunken and\\nheavily lined with wrinkles; and his hands, long, claw-like, and gnarled, were\\nof such a deathly, marble-like whiteness as I have never elsewhere seen in\\nman. His figure, lean to the proportions of a skeleton, was strangely bent and\\nalmost lost within the voluminous folds of his peculiar garment. But strangest\\nof all were his eyes; twin caves of abysmal blackness, profound in expression\\nof understanding, yet inhuman in degree of wickedness. These were now fixed\\nupon me, piercing my soul with their hatred, and rooting me to the spot\\nwhereon I stood. At last the figure spoke in a rumbling voice that chilled me\\nthrough with its dull hollowness and latent malevolence. The language in which\\nthe discourse was clothed was that debased form of Latin in use amongst the\\nmore learned men of the Middle Ages, and made familiar to me by my prolonged\\nresearches into the works of the old alchemists and daemonologists. The\\napparition spoke of the curse which had hovered over my house, told me of my\\ncoming end, dwelt on the wrong perpetrated by my ancestor against old Michel\\nMauvais, and gloated over the revenge of Charles Le Sorcier. He told how the\\nyoung Charles had escaped into the night, returning in after years to kill\\nGodfrey the heir with an arrow just as he approached the age which had been\\nhis father’s at his assassination; how he had secretly returned to the estate\\nand established himself, unknown, in the even then deserted subterranean\\nchamber whose doorway now framed the hideous narrator; how he had seized\\nRobert, son of Godfrey, in a field, forced poison down his throat, and left\\nhim to die at the age of thirty-two, thus maintaining the foul provisions of\\nhis vengeful curse. At this point I was left to imagine the solution of the\\ngreatest mystery of all, how the curse had been fulfilled since that time when\\nCharles Le Sorcier must in the course of Nature have died, for the man\\ndigressed into an account of the deep alchemical studies of the two wizards,\\nfather and son, speaking most particularly of the researches of Charles Le\\nSorcier concerning the elixir which should grant to him who partook of it\\neternal life and youth.  \\nHis enthusiasm had seemed for the moment to remove from his terrible eyes the\\nhatred that had at first so haunted them, but suddenly the fiendish glare\\nreturned, and with a shocking sound like the hissing of a serpent, the\\nstranger raised a glass phial with the evident intent of ending my life as had\\nCharles Le Sorcier, six hundred years before, ended that of my ancestor.\\nPrompted by some preserving instinct of self-defence, I broke through the\\nspell that had hitherto held me immovable, and flung my now dying torch at the\\ncreature who menaced my existence. I heard the phial break harmlessly against\\nthe stones of the passage as the tunic of the strange man caught fire and lit\\nthe horrid scene with a ghastly radiance. The shriek of fright and impotent\\nmalice emitted by the would-be assassin proved too much for my already shaken\\nnerves, and I fell prone upon the slimy floor in a total faint.  \\nWhen at last my senses returned, all was frightfully dark, and my mind\\nremembering what had occurred, shrank from the idea of beholding more; yet\\ncuriosity overmastered all. Who, I asked myself, was this man of evil, and how\\ncame he within the castle walls? Why should he seek to avenge the death of\\npoor Michel Mauvais, and how had the curse been carried on through all the\\nlong centuries since the time of Charles Le Sorcier? The dread of years was\\nlifted from my shoulders, for I knew that he whom I had felled was the source\\nof all my danger from the curse; and now that I was free, I burned with the\\ndesire to learn more of the sinister thing which had haunted my line for\\ncenturies, and made of my own youth one long-continued nightmare. Determined\\nupon further exploration, I felt in my pockets for flint and steel, and lit\\nthe unused torch which I had with me. First of all, the new light revealed the\\ndistorted and blackened form of the mysterious stranger. The hideous eyes were\\nnow closed. Disliking the sight, I turned away and entered the chamber beyond\\nthe Gothic door. Here I found what seemed much like an alchemist’s laboratory.\\nIn one corner was an immense pile of a shining yellow metal that sparkled\\ngorgeously in the light of the torch. It may have been gold, but I did not\\npause to examine it, for I was strangely affected by that which I had\\nundergone. At the farther end of the apartment was an opening leading out into\\none of the many wild ravines of the dark hillside forest. Filled with wonder,\\nyet now realising how the man had obtained access to the chateau, I proceeded\\nto return. I had intended to pass by the remains of the stranger with averted\\nface, but as I approached the body, I seemed to hear emanating from it a faint\\nsound, as though life were not yet wholly extinct. Aghast, I turned to examine\\nthe charred and shrivelled figure on the floor. Then all at once the horrible\\neyes, blacker even than the seared face in which they were set, opened wide\\nwith an expression which I was unable to interpret. The cracked lips tried to\\nframe words which I could not well understand. Once I caught the name of\\nCharles Le Sorcier, and again I fancied that the words “years” and “curse”\\nissued from the twisted mouth. Still I was at a loss to gather the purport of\\nhis disconnected speech. At my evident ignorance of his meaning, the pitchy\\neyes once more flashed malevolently at me, until, helpless as I saw my\\nopponent to be, I trembled as I watched him.  \\nSuddenly the wretch, animated with his last burst of strength, raised his\\nhideous head from the damp and sunken pavement. Then, as I remained, paralysed\\nwith fear, he found his voice and in his dying breath screamed forth those\\nwords which have ever afterward haunted my days and my nights. “Fool,” he\\nshrieked, “can you not guess my secret? Have you no brain whereby you may\\nrecognise the will which has through six long centuries fulfilled the dreadful\\ncurse upon your house? Have I not told you of the great elixir of eternal\\nlife? Know you not how the secret of Alchemy was solved? I tell you, it is I!\\nI! _I! that have lived for six hundred years to maintain my revenge,_ FOR I AM\\nCHARLES LE SORCIER!”  \\n\\n'"
      ]
     },
     "execution_count": 27,
     "metadata": {},
     "output_type": "execute_result"
    }
   ],
   "source": [
    "convert_html_to_md(str(trs[3])) + convert_html_to_md(str(trs[4]))"
   ]
  },
  {
   "cell_type": "code",
   "execution_count": 10,
   "metadata": {},
   "outputs": [
    {
     "data": {
      "text/plain": [
       "[{'href': 'fiction/a.aspx', 'text': 'The Alchemist'},\n",
       " {'href': 'fiction/as.aspx', 'text': 'Ashes'},\n",
       " {'href': 'fiction/mm.aspx', 'text': 'At the Mountains of Madness'},\n",
       " {'href': 'fiction/az.aspx', 'text': 'Azathoth'},\n",
       " {'href': 'fiction/bec.aspx', 'text': 'The Battle that Ended the Century'},\n",
       " {'href': 'fiction/bc.aspx', 'text': 'The Beast in the Cave'},\n",
       " {'href': 'fiction/bws.aspx', 'text': 'Beyond the Wall of Sleep'},\n",
       " {'href': 'fiction/b.aspx', 'text': 'The Book'},\n",
       " {'href': 'fiction/cc.aspx', 'text': 'The Call of Cthulhu'},\n",
       " {'href': 'fiction/cdw.aspx', 'text': 'The Case of Charles Dexter Ward'},\n",
       " {'href': 'fiction/cu.aspx', 'text': 'The Cats of Ulthar'},\n",
       " {'href': 'fiction/c.aspx', 'text': 'Celephaïs'},\n",
       " {'href': 'fiction/cb.aspx', 'text': 'The Challenge from Beyond'},\n",
       " {'href': 'fiction/clc.aspx', 'text': 'Collapsing Cosmoses'},\n",
       " {'href': 'fiction/cs.aspx', 'text': 'The Colour out of Space'},\n",
       " {'href': 'fiction/ca.aspx', 'text': 'Cool Air'},\n",
       " {'href': 'fiction/crc.aspx', 'text': 'The Crawling Chaos'},\n",
       " {'href': 'fiction/cy.aspx', 'text': 'The Curse of Yig'},\n",
       " {'href': 'fiction/d.aspx', 'text': 'Dagon'},\n",
       " {'href': 'fiction/ddb.aspx', 'text': 'Deaf, Dumb, and Blind'},\n",
       " {'href': 'fiction/de.aspx', 'text': 'The Descendant'},\n",
       " {'href': 'fiction/dat.aspx', 'text': 'The Diary of Alonzo Typer'},\n",
       " {'href': 'fiction/di.aspx', 'text': 'The Disinterment'},\n",
       " {'href': 'fiction/ds.aspx', 'text': 'The Doom That Came to Sarnath'},\n",
       " {'href': 'fiction/dq.aspx', 'text': 'The Dream-Quest of Unknown Kadath'},\n",
       " {'href': 'fiction/dwh.aspx', 'text': 'The Dreams in the Witch House'},\n",
       " {'href': 'fiction/dh.aspx', 'text': 'The Dunwich Horror'},\n",
       " {'href': 'fiction/ee.aspx', 'text': 'The Electric Executioner'},\n",
       " {'href': 'fiction/ec.aspx', 'text': 'The Evil Clergyman'},\n",
       " {'href': 'fiction/eo.aspx', 'text': 'Ex Oblivione'},\n",
       " {'href': 'fiction/faj.aspx',\n",
       "  'text': 'Facts concerning the Late Arthur Jermyn and His Family'},\n",
       " {'href': 'fiction/f.aspx', 'text': 'The Festival'},\n",
       " {'href': 'fiction/fb.aspx', 'text': 'From Beyond'},\n",
       " {'href': 'fiction/ge.aspx', 'text': 'The Ghost-Eater'},\n",
       " {'href': 'fiction/gm.aspx', 'text': 'The Green Meadow'},\n",
       " {'href': 'fiction/hd.aspx', 'text': 'The Haunter of the Dark'},\n",
       " {'href': 'fiction/he.aspx', 'text': 'He'},\n",
       " {'href': 'fiction/hwr.aspx', 'text': 'Herbert West—Reanimator'},\n",
       " {'href': 'fiction/hn.aspx', 'text': 'History of the Necronomicon'},\n",
       " {'href': 'fiction/hwb.aspx', 'text': 'The Hoard of the Wizard-Beast'},\n",
       " {'href': 'fiction/hmb.aspx', 'text': 'The Horror at Martin’s Beach'},\n",
       " {'href': 'fiction/hrh.aspx', 'text': 'The Horror at Red Hook'},\n",
       " {'href': 'fiction/hb.aspx', 'text': 'The Horror in the Burying-Ground'},\n",
       " {'href': 'fiction/hm.aspx', 'text': 'The Horror in the Museum'},\n",
       " {'href': 'fiction/h.aspx', 'text': 'The Hound'},\n",
       " {'href': 'fiction/hy.aspx', 'text': 'Hypnos'},\n",
       " {'href': 'fiction/ibid.aspx', 'text': 'Ibid'},\n",
       " {'href': 'fiction/iv.aspx', 'text': 'In the Vault'},\n",
       " {'href': 'fiction/iwe.aspx', 'text': 'In the Walls of Eryx'},\n",
       " {'href': 'fiction/lt.aspx', 'text': 'The Last Test'},\n",
       " {'href': 'fiction/lgb.aspx', 'text': 'The Little Glass Bottle'},\n",
       " {'href': 'fiction/ld.aspx', 'text': 'The Loved Dead'},\n",
       " {'href': 'fiction/lf.aspx', 'text': 'The Lurking Fear'},\n",
       " {'href': 'fiction/ms.aspx', 'text': 'The Man of Stone'},\n",
       " {'href': 'fiction/mc.aspx', 'text': 'Medusa’s Coil'},\n",
       " {'href': 'fiction/m.aspx', 'text': 'Memory'},\n",
       " {'href': 'fiction/mb.aspx', 'text': 'The Moon-Bog'},\n",
       " {'href': 'fiction/mo.aspx', 'text': 'The Mound'},\n",
       " {'href': 'fiction/mez.aspx', 'text': 'The Music of Erich Zann'},\n",
       " {'href': 'fiction/mys.aspx', 'text': 'The Mysterious Ship'},\n",
       " {'href': 'fiction/mg.aspx', 'text': 'The Mystery of the Grave-Yard'},\n",
       " {'href': 'fiction/nc.aspx', 'text': 'The Nameless City'},\n",
       " {'href': 'fiction/no.aspx', 'text': 'The Night Ocean'},\n",
       " {'href': 'fiction/n.aspx', 'text': 'Nyarlathotep'},\n",
       " {'href': 'fiction/ob.aspx', 'text': 'Old Bugs'},\n",
       " {'href': 'fiction/og.aspx', 'text': 'The Other Gods'},\n",
       " {'href': 'fiction/oa.aspx', 'text': 'Out of the Aeons'},\n",
       " {'href': 'fiction/o.aspx', 'text': 'The Outsider'},\n",
       " {'href': 'fiction/pm.aspx', 'text': 'Pickman’s Model'},\n",
       " {'href': 'fiction/ph.aspx', 'text': 'The Picture in the House'},\n",
       " {'href': 'fiction/pg.aspx', 'text': 'Poetry and the Gods'},\n",
       " {'href': 'fiction/p.aspx', 'text': 'Polaris'},\n",
       " {'href': 'fiction/qi.aspx', 'text': 'The Quest of Iranon'},\n",
       " {'href': 'fiction/rw.aspx', 'text': 'The Rats in the Walls'},\n",
       " {'href': 'fiction/rdsj.aspx', 'text': 'A Reminiscence of Dr. Samuel Johnson'},\n",
       " {'href': 'fiction/sc.aspx', 'text': 'The Secret Cave or John Lees Adventure'},\n",
       " {'href': 'fiction/sot.aspx', 'text': 'The Shadow out of Time'},\n",
       " {'href': 'fiction/soi.aspx', 'text': 'The Shadow over Innsmouth'},\n",
       " {'href': 'fiction/soidd.aspx',\n",
       "  'text': 'Discarded Draft of The Shadow over Innsmouth'},\n",
       " {'href': 'fiction/sh.aspx', 'text': 'The Shunned House'},\n",
       " {'href': 'fiction/sk.aspx', 'text': 'The Silver Key'},\n",
       " {'href': 'fiction/sm.aspx', 'text': 'The Slaying of the Monster'},\n",
       " {'href': 'fiction/src.aspx', 'text': 'The Statement of Randolph Carter'},\n",
       " {'href': 'fiction/shh.aspx', 'text': 'The Strange High House in the Mist'},\n",
       " {'href': 'fiction/s.aspx', 'text': 'The Street'},\n",
       " {'href': 'fiction/se.aspx', 'text': 'Sweet Ermengarde'},\n",
       " {'href': 'fiction/te.aspx', 'text': 'The Temple'},\n",
       " {'href': 'fiction/tom.aspx', 'text': 'The Terrible Old Man'},\n",
       " {'href': 'fiction/tm.aspx', 'text': 'The Thing in the Moonlight'},\n",
       " {'href': 'fiction/td.aspx', 'text': 'The Thing on the Doorstep'},\n",
       " {'href': 'fiction/tgsk.aspx', 'text': 'Through the Gates of the Silver Key'},\n",
       " {'href': 'fiction/tas.aspx', 'text': '“Till A’ the Seas”'},\n",
       " {'href': 'fiction/t.aspx', 'text': 'The Tomb'},\n",
       " {'href': 'fiction/tjr.aspx', 'text': 'The Transition of Juan Romero'},\n",
       " {'href': 'fiction/trap.aspx', 'text': 'The Trap'},\n",
       " {'href': 'fiction/tr.aspx', 'text': 'The Tree'},\n",
       " {'href': 'fiction/th.aspx', 'text': 'The Tree on the Hill'},\n",
       " {'href': 'fiction/tbb.aspx', 'text': 'Two Black Bottles'},\n",
       " {'href': 'fiction/up.aspx', 'text': 'Under the Pyramids'},\n",
       " {'href': 'fiction/u.aspx', 'text': 'The Unnamable'},\n",
       " {'href': 'fiction/vof.aspx', 'text': 'The Very Old Folk'},\n",
       " {'href': 'fiction/wmb.aspx', 'text': 'What the Moon Brings'},\n",
       " {'href': 'fiction/wid.aspx', 'text': 'The Whisperer in Darkness'},\n",
       " {'href': 'fiction/ws.aspx', 'text': 'The White Ship'},\n",
       " {'href': 'fiction/wd.aspx', 'text': 'Winged Death'}]"
      ]
     },
     "execution_count": 10,
     "metadata": {},
     "output_type": "execute_result"
    }
   ],
   "source": [
    "links"
   ]
  },
  {
   "cell_type": "code",
   "execution_count": null,
   "metadata": {},
   "outputs": [],
   "source": [
    "# Get the main page content\n",
    "main_page_content = get_page_content(main_url)\n",
    "\n",
    "# Parse the main page to find fiction links\n",
    "soup = BeautifulSoup(main_page_content, \"html.parser\")\n",
    "\n",
    "fiction_section = soup.find(id=\"fiction\")\n",
    "links = fiction_section.find_all(\"a\")\n",
    "\n",
    "# Process each link in the fiction section\n",
    "for link in links:\n",
    "    fiction_title = link.get_text()\n",
    "    fiction_url = \"https://hplovecraft.com\" + link[\"href\"]\n",
    "    print(f\"Processing: {fiction_title} - {fiction_url}\")\n",
    "    \n",
    "    # Get the content of the fiction page\n",
    "    fiction_page_content = get_page_content(fiction_url)\n",
    "    \n",
    "    # Convert the HTML content to Markdown\n",
    "    markdown_content = convert_html_to_md(fiction_page_content)\n",
    "    \n",
    "    # Save the Markdown content to a file\n",
    "    file_name = f\"{fiction_title}.md\".replace(\" \", \"_\").replace(\"/\", \"_\")\n",
    "    with open(file_name, \"w\", encoding=\"utf-8\") as md_file:\n",
    "        md_file.write(markdown_content)\n",
    "\n",
    "    print(f\"Saved: {file_name}\")\n",
    "\n",
    "print(\"All fiction texts have been processed.\")"
   ]
  },
  {
   "cell_type": "code",
   "execution_count": 29,
   "metadata": {},
   "outputs": [
    {
     "name": "stdout",
     "output_type": "stream",
     "text": [
      "All .md files have been combined into all_texts.txt\n"
     ]
    }
   ],
   "source": [
    "import os\n",
    "\n",
    "# Define the path to the folder containing the .md files\n",
    "folder_path = \"texts\"\n",
    "\n",
    "# Define the path for the output file\n",
    "output_file = \"all_texts.txt\"\n",
    "\n",
    "# Get a list of all .md files in the specified folder\n",
    "md_files = [f for f in os.listdir(folder_path) if f.endswith('.md')]\n",
    "\n",
    "# Initialize the output file by opening it in write mode\n",
    "with open(output_file, 'w', encoding='utf-8') as outfile:\n",
    "    # Loop through each .md file\n",
    "    for md_file in md_files:\n",
    "        file_path = os.path.join(folder_path, md_file)\n",
    "        # Open and read the content of each .md file\n",
    "        with open(file_path, 'r', encoding='utf-8') as infile:\n",
    "            content = infile.read()\n",
    "            # Write the content to the output file\n",
    "            outfile.write(content)\n",
    "            # Add a newline between files for separation\n",
    "            outfile.write('\\n')\n",
    "\n",
    "print(f\"All .md files have been combined into {output_file}\")\n"
   ]
  },
  {
   "cell_type": "code",
   "execution_count": null,
   "metadata": {},
   "outputs": [],
   "source": []
  }
 ],
 "metadata": {
  "kernelspec": {
   "display_name": ".venv",
   "language": "python",
   "name": "python3"
  },
  "language_info": {
   "codemirror_mode": {
    "name": "ipython",
    "version": 3
   },
   "file_extension": ".py",
   "mimetype": "text/x-python",
   "name": "python",
   "nbconvert_exporter": "python",
   "pygments_lexer": "ipython3",
   "version": "3.11.4"
  }
 },
 "nbformat": 4,
 "nbformat_minor": 2
}
